{
    "nbformat": 4,
    "nbformat_minor": 0,
    "metadata": {
        "colab": {
            "name": "poleff13-timetrend.ipynb",
            "provenance": []
        },
        "kernelspec": {
            "name": "ir",
            "display_name": "R"
        }
    },
    "cells": [
        {
            "cell_type": "code",
            "metadata": {
                "id": "IlOR1i1fc7SJ"
            },
            "source": [
                "##Load the data file\n",
                "read.csv(\"https://raw.githubusercontent.com/ctzn-pub/colab_files/main/colab/poleff13.csv\", header = TRUE)\n",
                "head(df)"
            ],
            "execution_count": null,
            "outputs": []
        }
    ]
}