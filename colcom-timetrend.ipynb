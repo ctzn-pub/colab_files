{
    "nbformat": 4,
    "nbformat_minor": 0,
    "metadata": {
        "colab": {
            "name": "colcom-timetrend.ipynb",
            "provenance": []
        },
        "kernelspec": {
            "name": "ir",
            "display_name": "R"
        }
    },
    "cells": [
        {
            "cell_type": "code",
            "metadata": {
                "id": "IlOR1i1fc7SJ"
            },
            "source": [
                "##Load the data file\n",
                "read.csv(\"https://raw.githubusercontent.com/ctzn-pub/colab_files/main/colab/colcom.csv\", header = TRUE)\n",
                "head(df)"
            ],
            "execution_count": null,
            "outputs": []
        }
    ]
}